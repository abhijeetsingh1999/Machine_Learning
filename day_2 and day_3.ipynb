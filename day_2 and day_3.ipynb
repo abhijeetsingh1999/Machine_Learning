{
 "cells": [
  {
   "cell_type": "code",
   "execution_count": 9,
   "metadata": {
    "collapsed": true
   },
   "outputs": [],
   "source": [
    "#list and tuples creation\n",
    "#list is the collection of data in a sequencial manner and these are mutable\n",
    "a=[]                                        #empty list\n",
    "b=[\"abhijeet\",\"aman\",\"ashutosh\"]            #list with arguments"
   ]
  },
  {
   "cell_type": "code",
   "execution_count": 10,
   "metadata": {},
   "outputs": [
    {
     "name": "stdout",
     "output_type": "stream",
     "text": [
      "abhijeet\n",
      "['abhijeet', 'aman', 'ashutosh']\n"
     ]
    }
   ],
   "source": [
    "print(b[0])                                 #printing element of 0th position\n",
    "print(b[0:len(b)])                          #printing element with the help of indexing order"
   ]
  },
  {
   "cell_type": "code",
   "execution_count": 11,
   "metadata": {},
   "outputs": [
    {
     "name": "stdout",
     "output_type": "stream",
     "text": [
      "[1, 2, 3, 4]\n"
     ]
    }
   ],
   "source": [
    "# we can append the values to list using append function\n",
    "abhi=[]\n",
    "for i in range(1,5):\n",
    "    abhi.append(i)\n",
    "print(abhi)\n",
    "                          # pop function allows user to print the deleted data"
   ]
  },
  {
   "cell_type": "code",
   "execution_count": 12,
   "metadata": {},
   "outputs": [
    {
     "name": "stdout",
     "output_type": "stream",
     "text": [
      "[1, 2, 3, 4]\n",
      "[2, 3, 4]\n",
      "4\n"
     ]
    }
   ],
   "source": [
    "print(abhi)\n",
    "del abhi[0]\n",
    "print(abhi)                                 #deleting data from list\n",
    "print(abhi.pop(2))                           # pop function allows user to print the deleted data\n"
   ]
  },
  {
   "cell_type": "code",
   "execution_count": 13,
   "metadata": {},
   "outputs": [
    {
     "name": "stdout",
     "output_type": "stream",
     "text": [
      "('abhijeet', 'aman', 'ashutosh')\n"
     ]
    },
    {
     "data": {
      "text/plain": [
       "'ashutosh'"
      ]
     },
     "execution_count": 13,
     "metadata": {},
     "output_type": "execute_result"
    }
   ],
   "source": [
    "#Tuples are similar as list but these are immutable that means we can't make any changes to them once they are created\n",
    "a=()                                        #empty tuple \n",
    "b=(\"abhijeet\",\"aman\",\"ashutosh\")\n",
    "print(b)\n",
    "b[2]"
   ]
  },
  {
   "cell_type": "code",
   "execution_count": null,
   "metadata": {},
   "outputs": [],
   "source": [
    "#list comprehension\n",
    "summ=0\n",
    "sum=[int(x) for x in input(\"enter two number: \").split()]"
   ]
  },
  {
   "cell_type": "code",
   "execution_count": null,
   "metadata": {
    "collapsed": true
   },
   "outputs": [],
   "source": []
  }
 ],
 "metadata": {
  "kernelspec": {
   "display_name": "Python 3",
   "language": "python",
   "name": "python3"
  },
  "language_info": {
   "codemirror_mode": {
    "name": "ipython",
    "version": 3
   },
   "file_extension": ".py",
   "mimetype": "text/x-python",
   "name": "python",
   "nbconvert_exporter": "python",
   "pygments_lexer": "ipython3",
   "version": "3.6.3"
  }
 },
 "nbformat": 4,
 "nbformat_minor": 2
}
